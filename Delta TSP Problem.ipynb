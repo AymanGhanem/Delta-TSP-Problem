{
 "cells": [
  {
   "cell_type": "code",
   "execution_count": 1,
   "metadata": {},
   "outputs": [],
   "source": [
    "import networkx as nx\n",
    "import os\n",
    "import random\n",
    "import matplotlib.pyplot as plt\n",
    "import math\n",
    "from itertools import permutations\n",
    "from itertools import combinations\n",
    "from itertools import chain\n",
    "import numpy as np\n",
    "from networkx.algorithms.matching import max_weight_matching\n",
    "from networkx.algorithms.euler import eulerian_circuit\n",
    "import pandas as pd\n",
    "\n",
    "def compute_cycle_length(graph,cycle) :\n",
    "    \"\"\"This function takes a graph instance and a cycle and returns the length of this cycle.  \"\"\"\n",
    "    \"\"\"graph : networkx instance\"\"\"\n",
    "    \"\"\"cycle : tuple and in some cases can be passed as a list. \"\"\"\n",
    "    length = 0\n",
    "    for vertex_id in range(len(cycle)) :\n",
    "        length += graph[cycle[vertex_id]][cycle[(vertex_id + 1) % len(cycle)]]['weight']\n",
    "    return length\n",
    "\n",
    "def double_approximation(graph,source_vertex = 0) :\n",
    "    \"\"\"This function implements the double approximation algorithm to solve Metric TSP.\"\"\"\n",
    "    #1.Compute the MST for the inputed graph .\n",
    "    mst = nx.minimum_spanning_tree(graph) \n",
    "    #2.Traverse the mst .\n",
    "    cycle = nx.dfs_preorder_nodes(mst,source_vertex)\n",
    "    cycle = tuple(cycle)\n",
    "    weight = compute_cycle_length(graph,cycle)\n",
    "    return cycle , weight\n",
    "\n",
    "def christofides(graph,source_vertex = 0) :\n",
    "    \"\"\"\n",
    "    This function is an implementation of Christofides algorithm .\n",
    "    graph : networkx instance .\n",
    "    source_vertex : The starting and ending point of the cycle .\n",
    "    \"\"\"\n",
    "    #1.compute MST .\n",
    "    mst = nx.minimum_spanning_tree(graph)\n",
    "    #2.find the vertices with odd degrees .\n",
    "    odd_degree_vertices = list()\n",
    "    for vertex in graph.nodes() :\n",
    "        if(mst.degree(vertex) % 2 != 0) :\n",
    "            odd_degree_vertices.append(vertex)\n",
    "    #3.build subgraph with only vertices with odd degrees and the edges between them .\n",
    "    odd_vertices_graph = graph.subgraph(odd_degree_vertices)\n",
    "    #4.compute minimum weight perfect matching on the odd vertices subgraph .\n",
    "    for edge in odd_vertices_graph.edges() :\n",
    "        odd_vertices_graph[edge[0]][edge[1]]['weight'] = -1 * odd_vertices_graph[edge[0]][edge[1]]['weight']\n",
    "    minimum_weight_perfect_matching = list(max_weight_matching(odd_vertices_graph, maxcardinality=True))\n",
    "    #To correct negative edges .\n",
    "    for edge in graph.edges() :\n",
    "        graph[edge[0]][edge[1]]['weight'] = abs(graph[edge[0]][edge[1]]['weight'])\n",
    "    #5.combine the mst with the edges from minimum weight perfect matching .\n",
    "    multi_graph = nx.MultiGraph(mst)\n",
    "    for edge in minimum_weight_perfect_matching :\n",
    "        multi_graph.add_edge(edge[0],edge[1],weight = graph[edge[0]][edge[1]]['weight'])\n",
    "    #6.find Euler's cycle\n",
    "    euler_cycle = list(eulerian_circuit(multi_graph,source = source_vertex))\n",
    "    cycle = list()\n",
    "    for edge in euler_cycle :\n",
    "        if(edge[0] not in cycle) :\n",
    "            cycle.append(edge[0])\n",
    "        if(edge[1] not in cycle) :\n",
    "            cycle.append(edge[1])\n",
    "    weight = compute_cycle_length(graph,tuple(cycle))\n",
    "    return tuple(cycle) , weight\n",
    "\n",
    "def generate_complete_undirected_weighted(num_vertices, min_weight= 1, max_weight= 10):\n",
    "    graph = nx.Graph()\n",
    "    for source in range(num_vertices):\n",
    "        for destination in range(source):\n",
    "            weight = random.randint(min_weight, max_weight)\n",
    "            graph.add_edge(source, destination, weight= weight)\n",
    "    return graph\n",
    "\n",
    "def satisfy_triangel(graph):\n",
    "    fw = nx.floyd_warshall(graph, weight='weight')\n",
    "    output_graph = nx.Graph()\n",
    "    for source, dictionary in fw.items():\n",
    "        for destination, weight in dictionary.items():\n",
    "            if(source != destination):\n",
    "                output_graph.add_edge(source, destination, weight= weight)\n",
    "    return output_graph\n",
    "\n",
    "def generate_delta_tsp_input(num_vertices, min_weight= 1, max_weight= 10):\n",
    "    graph = generate_complete_undirected_weighted(num_vertices, min_weight, max_weight)\n",
    "    output_graph = satisfy_triangel(graph)\n",
    "    return output_graph\n",
    "\n",
    "def is_valid(g):\n",
    "    n = len(g.nodes())\n",
    "    for i in range(n):\n",
    "        for j in range(n):\n",
    "            for k in range(n):\n",
    "                if((i != j) and (i != k) and (j !=k)):\n",
    "                    if(g[i][k]['weight'] + g[k][j]['weight'] < g[i][j]['weight']):\n",
    "                        return False\n",
    "    return True"
   ]
  },
  {
   "cell_type": "code",
   "execution_count": 2,
   "metadata": {},
   "outputs": [
    {
     "name": "stdout",
     "output_type": "stream",
     "text": [
      "True\n",
      "[(1, 0, 2), (1, 2, 3), (1, 3, 1), (1, 4, 2), (1, 5, 2), (0, 2, 2), (0, 3, 1), (0, 4, 1), (0, 5, 3), (2, 3, 2), (2, 4, 1), (2, 5, 1), (3, 4, 1), (3, 5, 3), (4, 5, 2)]\n"
     ]
    }
   ],
   "source": [
    "g = generate_delta_tsp_input(6, 1, 4)\n",
    "print(is_valid(g))\n",
    "print(g.edges.data('weight'))"
   ]
  },
  {
   "cell_type": "code",
   "execution_count": 3,
   "metadata": {},
   "outputs": [
    {
     "name": "stdout",
     "output_type": "stream",
     "text": [
      "(0, 3, 1, 4, 2, 5) 9\n"
     ]
    }
   ],
   "source": [
    "cycle, weight = double_approximation(g)\n",
    "print(cycle, weight)"
   ]
  },
  {
   "cell_type": "code",
   "execution_count": 4,
   "metadata": {},
   "outputs": [
    {
     "name": "stdout",
     "output_type": "stream",
     "text": [
      "(0, 4, 2, 5, 1, 3) 7\n"
     ]
    }
   ],
   "source": [
    "cycle, weight = christofides(g)\n",
    "print(cycle, weight)"
   ]
  },
  {
   "cell_type": "code",
   "execution_count": 5,
   "metadata": {},
   "outputs": [
    {
     "name": "stdout",
     "output_type": "stream",
     "text": [
      "Valid input :  100 %.\n",
      "Out of 100 times, Christofides gives better results(weights for cycles) than 2-approximation in 100 cases.\n"
     ]
    }
   ],
   "source": [
    "results = []\n",
    "valid = 0\n",
    "for i in range(100):\n",
    "    g = generate_delta_tsp_input(25, 1, 100)\n",
    "    if(is_valid(g)):\n",
    "        valid +=1\n",
    "    cycle1, weight1 = double_approximation(g)\n",
    "    cycle2, weight2 = christofides(g)\n",
    "    results.append((weight1, weight2))\n",
    "res = [1 if weight1 >= weight2 else 0 for weight1, weight2 in results]\n",
    "print(\"Valid input : \", round(valid,2),\"%.\")\n",
    "print(f\"Out of 100 times, Christofides gives better results(weights for cycles) than 2-approximation in {sum(res)} cases.\")"
   ]
  },
  {
   "cell_type": "code",
   "execution_count": 6,
   "metadata": {},
   "outputs": [
    {
     "name": "stdout",
     "output_type": "stream",
     "text": [
      "False\n",
      "(0, 1, 2) 5\n",
      "(0, 2, 1) 5\n"
     ]
    }
   ],
   "source": [
    "# example to test\n",
    "g = nx.Graph()\n",
    "g.add_weighted_edges_from([(1,2,1),(0,1,1),(2,0,3)])\n",
    "print(is_valid(g))\n",
    "cycle1, weight1 = double_approximation(g)\n",
    "cycle2, weight2 = christofides(g)\n",
    "print(cycle1, weight1)\n",
    "print(cycle2, weight2)"
   ]
  }
 ],
 "metadata": {
  "kernelspec": {
   "display_name": "Python 3",
   "language": "python",
   "name": "python3"
  },
  "language_info": {
   "codemirror_mode": {
    "name": "ipython",
    "version": 3
   },
   "file_extension": ".py",
   "mimetype": "text/x-python",
   "name": "python",
   "nbconvert_exporter": "python",
   "pygments_lexer": "ipython3",
   "version": "3.7.3"
  }
 },
 "nbformat": 4,
 "nbformat_minor": 2
}
